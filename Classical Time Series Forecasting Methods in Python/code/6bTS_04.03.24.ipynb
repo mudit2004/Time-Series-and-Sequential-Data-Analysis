{
 "cells": [
  {
   "cell_type": "markdown",
   "id": "f0536887-6312-44fa-ac22-4f6c25838807",
   "metadata": {},
   "source": [
    "<div class=\"alert alert-block alert-info\"><h1>\n",
    "<b>AIM:</b> Implementation of classical Time Series Forecasting Methods in Python</h1> </div>"
   ]
  },
  {
   "cell_type": "markdown",
   "id": "a350dbcc-ad55-445c-86b1-f762c30824d3",
   "metadata": {},
   "source": [
    "## Contrived dataset"
   ]
  },
  {
   "cell_type": "code",
   "execution_count": 18,
   "id": "d24244a4-6a6e-44c5-a92c-14d4735e5db8",
   "metadata": {
    "scrolled": true
   },
   "outputs": [
    {
     "data": {
      "text/plain": [
       "[1.5417192514343983,\n",
       " 2.6714322350494504,\n",
       " 3.930430557114998,\n",
       " 4.2839611152587285,\n",
       " 5.4783123938957425,\n",
       " 6.180498638866211,\n",
       " 7.506295861873674,\n",
       " 8.19937963619969,\n",
       " 9.660301573646457,\n",
       " 10.749061785819752]"
      ]
     },
     "execution_count": 18,
     "metadata": {},
     "output_type": "execute_result"
    }
   ],
   "source": [
    "data = [x + random() for x in range(1, 100)]\n",
    "data[:10]"
   ]
  },
  {
   "cell_type": "markdown",
   "id": "a7b5363e-6881-40f9-9b8b-5d3165045807",
   "metadata": {},
   "source": [
    "## Autoregression (AR): \n",
    " > The autoregression (AR) method models the next step in the \n",
    "sequence as a linear function of the observations at prior time steps. The notation for the mode \r\n",
    "involves specifying the order of the model p as a parameter to the AR function, e.g. AR(p). Fr\r\n",
    "example, AR(1) is a first-order autoregression model. The method is suitable for univariate t me\r\n",
    "series without trend and seasonal components."
   ]
  },
  {
   "cell_type": "markdown",
   "id": "0ec7dba8-26a1-48f7-aac6-308423c227ea",
   "metadata": {},
   "source": [
    "#### AR example"
   ]
  },
  {
   "cell_type": "code",
   "execution_count": 25,
   "id": "4e188d58-0637-4d48-beec-f28e56a5a0dd",
   "metadata": {},
   "outputs": [],
   "source": [
    "from statsmodels.tsa.ar_model import AutoReg\n",
    "from random import random"
   ]
  },
  {
   "cell_type": "markdown",
   "id": "0d385394-172d-4012-8797-2a75949b4921",
   "metadata": {},
   "source": [
    "#### Fit model"
   ]
  },
  {
   "cell_type": "code",
   "execution_count": 26,
   "id": "e4447845-e77e-4f09-9cd0-f96f76b5c104",
   "metadata": {},
   "outputs": [],
   "source": [
    "model = AutoReg(data, lags=1)\n",
    "model_fit = model.fit()"
   ]
  },
  {
   "cell_type": "markdown",
   "id": "fdbd3614-20ea-4863-9845-7161334ddbae",
   "metadata": {},
   "source": [
    "#### Make prediction"
   ]
  },
  {
   "cell_type": "code",
   "execution_count": 27,
   "id": "23b461c1-94d4-4ddf-816a-8891dbd17e26",
   "metadata": {},
   "outputs": [
    {
     "name": "stdout",
     "output_type": "stream",
     "text": [
      "[100.2039031]\n"
     ]
    }
   ],
   "source": [
    "yhat = model_fit.predict(len(data), len(data))\n",
    "print(yhat)"
   ]
  },
  {
   "cell_type": "markdown",
   "id": "fe661da5-b0b1-4813-b93b-079d47dcf632",
   "metadata": {},
   "source": [
    "> The autoregression (AR) method models the next step in the sequence as a linear function of the \n",
    "observations at prior time steps."
   ]
  },
  {
   "cell_type": "markdown",
   "id": "ff851e40-69a7-43aa-bb4c-7badf443697d",
   "metadata": {},
   "source": [
    "## Moving Average (MA): \n",
    "> The moving average (MA) method models the next step in the\r\n",
    "sequence as a linear function of the residual errors from a mean process at prior time steps. A\r\n",
    "moving average model is different from calculating the moving average of the time series. T notation for the model involves specifying the order of the model q as a parameter to the MA\r\n",
    "function, e.g. MA(q). For example, MA(1) is a first-order moving average model. The method\r\n",
    "is suitable for univariate time series without trend and seasonal components.hes.he"
   ]
  },
  {
   "cell_type": "markdown",
   "id": "fd823f64-5d3e-4bc8-b78b-032823b19477",
   "metadata": {},
   "source": [
    "#### MA example\r"
   ]
  },
  {
   "cell_type": "code",
   "execution_count": 21,
   "id": "03f60438-997a-43e5-a921-c90628847370",
   "metadata": {},
   "outputs": [],
   "source": [
    "from statsmodels.tsa.arima.model import ARIMA\n",
    "from random import random"
   ]
  },
  {
   "cell_type": "markdown",
   "id": "306c4148-839b-4709-afb9-a3611d43aa7e",
   "metadata": {},
   "source": [
    "#### Fit model"
   ]
  },
  {
   "cell_type": "code",
   "execution_count": 23,
   "id": "3aae9870-7ac3-4586-8b35-3d1f388482e8",
   "metadata": {},
   "outputs": [],
   "source": [
    "model = ARIMA(data, order=(0, 0, 1))\n",
    "model_fit = model.fit()"
   ]
  },
  {
   "cell_type": "markdown",
   "id": "59319f9a-77ef-4aa7-aeaf-a7e535412935",
   "metadata": {},
   "source": [
    "#### Make prediction"
   ]
  },
  {
   "cell_type": "code",
   "execution_count": 24,
   "id": "f3a72a0d-d93b-4a21-bd3c-7430b07b3fa1",
   "metadata": {},
   "outputs": [
    {
     "name": "stdout",
     "output_type": "stream",
     "text": [
      "[73.30445414]\n"
     ]
    }
   ],
   "source": [
    "yhat = model_fit.predict(len(data), len(data))\n",
    "print(yhat)"
   ]
  },
  {
   "cell_type": "markdown",
   "id": "ad23140c-2aad-4ea1-9487-4f4d6aac4a25",
   "metadata": {},
   "source": [
    "## Autoregressive Moving Average (ARMA):\n",
    " > The Autoregressive Moving Average (ARMA) method models the next step in the sequence as a\r\n",
    "linear function of the observations and residual errors at prior time steps. It combines both\r\n",
    "Autoregression (AR) and Moving Average (MA) models. The notation for the model involves\r\n",
    "specifying the order for the AR(p) and MA(q) models as parameters to an ARMA function, e.g.\r\n",
    "ARMA(p, q). An ARIMA model can be used to develop AR or MA models. The method is suitable\r\n",
    "for univariate time series without trend and seasonal components."
   ]
  },
  {
   "cell_type": "markdown",
   "id": "e7f001d2-9b00-4c40-9c17-4eec7751c1dd",
   "metadata": {},
   "source": [
    "#### ARMA example"
   ]
  },
  {
   "cell_type": "code",
   "execution_count": 39,
   "id": "271f6a89-67be-4d3b-ba9f-9c23b15b4f6b",
   "metadata": {},
   "outputs": [],
   "source": [
    "from statsmodels.tsa.arima.model import ARIMA\n",
    "from random import random"
   ]
  },
  {
   "cell_type": "markdown",
   "id": "8e7323db-5c7a-41cf-bc99-094185465609",
   "metadata": {},
   "source": [
    "#### Fit model"
   ]
  },
  {
   "cell_type": "code",
   "execution_count": 40,
   "id": "e00f3309-4056-4dd6-9997-14577f16fa30",
   "metadata": {},
   "outputs": [
    {
     "name": "stderr",
     "output_type": "stream",
     "text": [
      "C:\\Users\\Admin\\AppData\\Local\\Programs\\Python\\Python311\\Lib\\site-packages\\statsmodels\\base\\model.py:607: ConvergenceWarning: Maximum Likelihood optimization failed to converge. Check mle_retvals\n",
      "  warnings.warn(\"Maximum Likelihood optimization failed to \"\n"
     ]
    }
   ],
   "source": [
    "model = ARIMA(data, order=(2, 0, 1))\n",
    "model_fit = model.fit()"
   ]
  },
  {
   "cell_type": "markdown",
   "id": "d25bbb0e-dd9b-4a28-9ccd-daa1411a29f3",
   "metadata": {},
   "source": [
    "#### Make prediction"
   ]
  },
  {
   "cell_type": "code",
   "execution_count": 41,
   "id": "f75c7733-5d1c-4e32-bb11-8bfd4c9b3f18",
   "metadata": {},
   "outputs": [
    {
     "name": "stdout",
     "output_type": "stream",
     "text": [
      "[100.09403736]\n"
     ]
    }
   ],
   "source": [
    "yhat = model_fit.predict(len(data), len(data))\n",
    "print(yhat)"
   ]
  },
  {
   "cell_type": "markdown",
   "id": "6cdef6b5-ed67-4578-930d-2becd60dbffc",
   "metadata": {},
   "source": [
    "## Autoregressive Integrated Moving Average (ARIMA) :\n",
    "> The Autoregressive Integrated Moving Average (ARIMA) method models the next step in the\r\n",
    "sequence as a linear function of the differenced observations and residual errors at prior time steps.\r\n",
    "It combines both Autoregression (AR) and Moving Average (MA) models as well as a differencing\r\n",
    "pre-processing step of the sequence to make the sequence stationary, called integration (I). The\r\n",
    "notation for the model involves specifying the order for the AR(p), I(d), and MA(q) models as\r\n",
    "parameters to an ARIMA function, e.g. ARIMA(p, d, q). An ARIMA model can also be used to\r\n",
    "develop AR, MA, and ARMA models. The method is suitable for univariate time series with trend\r\n",
    "and without seasonal components."
   ]
  },
  {
   "cell_type": "code",
   "execution_count": null,
   "id": "51e13841-6209-4890-b496-9add2d349a86",
   "metadata": {},
   "outputs": [],
   "source": [
    "#### ARIMA example"
   ]
  },
  {
   "cell_type": "code",
   "execution_count": null,
   "id": "352b4991-17a6-4319-8e0e-943ebf465ab5",
   "metadata": {},
   "outputs": [],
   "source": [
    "from statsmodels.tsa.arima.model import ARIMA\n",
    "from random import random"
   ]
  },
  {
   "cell_type": "code",
   "execution_count": null,
   "id": "a01067a4-ea44-4f13-8928-a774d2a0de3d",
   "metadata": {},
   "outputs": [],
   "source": [
    "# fit model"
   ]
  },
  {
   "cell_type": "code",
   "execution_count": null,
   "id": "620f2fa1-9f59-4ddc-9db7-a53d1713f20d",
   "metadata": {},
   "outputs": [],
   "source": [
    "model = ARIMA(data, order=(1, 1, 1))\n",
    "model_fit = model.fit()"
   ]
  },
  {
   "cell_type": "code",
   "execution_count": null,
   "id": "14fc01ab-0be4-45ad-93c4-c513d3d1738d",
   "metadata": {},
   "outputs": [],
   "source": [
    "# make prediction"
   ]
  },
  {
   "cell_type": "code",
   "execution_count": null,
   "id": "9d29067e-6eec-41e5-af68-01a254dd7298",
   "metadata": {},
   "outputs": [],
   "source": [
    "yhat = model_fit.predict(len(data), len(data), typ='levels')\n",
    "print(yhat)"
   ]
  },
  {
   "cell_type": "code",
   "execution_count": null,
   "id": "272c4c2e-375f-4956-ac71-6eb5c2392c88",
   "metadata": {},
   "outputs": [],
   "source": []
  },
  {
   "cell_type": "code",
   "execution_count": null,
   "id": "56cbe2ea-c314-446f-a2bd-7e186f85e23c",
   "metadata": {},
   "outputs": [],
   "source": []
  },
  {
   "cell_type": "code",
   "execution_count": null,
   "id": "d2185ed7-7eb3-4ac6-9b2e-1f94ea0a8cf4",
   "metadata": {},
   "outputs": [],
   "source": []
  },
  {
   "cell_type": "code",
   "execution_count": null,
   "id": "e8b51a7f-d647-4b42-9eac-60e874f22f1b",
   "metadata": {},
   "outputs": [],
   "source": []
  },
  {
   "cell_type": "code",
   "execution_count": null,
   "id": "4603ef02-383b-41fd-83d7-821485327be2",
   "metadata": {},
   "outputs": [],
   "source": []
  },
  {
   "cell_type": "code",
   "execution_count": null,
   "id": "76c80c42-18c4-4c78-a83b-baa7547f7283",
   "metadata": {},
   "outputs": [],
   "source": []
  },
  {
   "cell_type": "code",
   "execution_count": null,
   "id": "36f45b17-c422-4828-8d68-4bfb7421c3d4",
   "metadata": {},
   "outputs": [],
   "source": []
  },
  {
   "cell_type": "code",
   "execution_count": null,
   "id": "168e81fc-d9b2-478e-b20c-7a3d5b64393b",
   "metadata": {},
   "outputs": [],
   "source": []
  },
  {
   "cell_type": "code",
   "execution_count": null,
   "id": "53ededc6-bf7e-4150-b134-a7cf6ee1460b",
   "metadata": {},
   "outputs": [],
   "source": []
  },
  {
   "cell_type": "code",
   "execution_count": null,
   "id": "6674a6b3-d390-4a23-ba5d-979ba989b318",
   "metadata": {},
   "outputs": [],
   "source": []
  },
  {
   "cell_type": "code",
   "execution_count": null,
   "id": "62a422ad-d43b-4331-8f85-9d2eb951d4ac",
   "metadata": {},
   "outputs": [],
   "source": []
  },
  {
   "cell_type": "code",
   "execution_count": null,
   "id": "f7beb93d-8da8-4b46-9a00-e937020daf74",
   "metadata": {},
   "outputs": [],
   "source": []
  },
  {
   "cell_type": "code",
   "execution_count": null,
   "id": "8e5fab43-3728-4e0a-bea1-d363a6b8f938",
   "metadata": {},
   "outputs": [],
   "source": []
  },
  {
   "cell_type": "code",
   "execution_count": null,
   "id": "e847e1d2-5480-4223-adb1-9d3f7a1ea1c6",
   "metadata": {},
   "outputs": [],
   "source": []
  },
  {
   "cell_type": "code",
   "execution_count": null,
   "id": "e47d948c-75b9-489d-8e7b-41b796f19c2f",
   "metadata": {},
   "outputs": [],
   "source": []
  },
  {
   "cell_type": "code",
   "execution_count": null,
   "id": "9b358674-6e62-4f12-a056-90fa80cdba06",
   "metadata": {},
   "outputs": [],
   "source": []
  },
  {
   "cell_type": "code",
   "execution_count": null,
   "id": "d4785e30-39c8-4c42-897d-75b93c18127d",
   "metadata": {},
   "outputs": [],
   "source": []
  },
  {
   "cell_type": "code",
   "execution_count": null,
   "id": "da4ed9e3-d9e6-4931-8231-b6eebbc5cfc2",
   "metadata": {},
   "outputs": [],
   "source": []
  },
  {
   "cell_type": "code",
   "execution_count": null,
   "id": "9cfd8cb9-b8b0-4bf3-9ec7-060e0f1e588b",
   "metadata": {},
   "outputs": [],
   "source": []
  },
  {
   "cell_type": "code",
   "execution_count": null,
   "id": "5a49cf4a-6210-4b0a-ac85-40d3f993c363",
   "metadata": {},
   "outputs": [],
   "source": []
  },
  {
   "cell_type": "code",
   "execution_count": null,
   "id": "f1c7defa-ad01-469f-93b1-8689e14748dc",
   "metadata": {},
   "outputs": [],
   "source": []
  },
  {
   "cell_type": "code",
   "execution_count": null,
   "id": "98b12fa5-9412-481b-9e7f-90ba309a8637",
   "metadata": {},
   "outputs": [],
   "source": []
  },
  {
   "cell_type": "code",
   "execution_count": null,
   "id": "e02081a4-1c2b-490f-82fe-aa459c15b25f",
   "metadata": {},
   "outputs": [],
   "source": []
  },
  {
   "cell_type": "code",
   "execution_count": null,
   "id": "800d9aa2-fcff-47ff-85cd-95c3cb746a94",
   "metadata": {},
   "outputs": [],
   "source": []
  },
  {
   "cell_type": "code",
   "execution_count": null,
   "id": "5585dd2d-4ecc-4490-9c17-d6b773a1c0eb",
   "metadata": {},
   "outputs": [],
   "source": []
  },
  {
   "cell_type": "code",
   "execution_count": null,
   "id": "dd53484f-6d6e-46a6-883a-760a2578c7fb",
   "metadata": {},
   "outputs": [],
   "source": []
  },
  {
   "cell_type": "code",
   "execution_count": null,
   "id": "958b49a3-21a0-423b-9174-731c0ac92629",
   "metadata": {},
   "outputs": [],
   "source": []
  },
  {
   "cell_type": "code",
   "execution_count": null,
   "id": "a097e440-0d77-4669-8446-2898cce7c121",
   "metadata": {},
   "outputs": [],
   "source": []
  },
  {
   "cell_type": "code",
   "execution_count": null,
   "id": "2c580f0e-be62-4c37-b2f6-c117ce8c2592",
   "metadata": {},
   "outputs": [],
   "source": []
  },
  {
   "cell_type": "code",
   "execution_count": null,
   "id": "2390bb41-d4ea-4ebf-bc98-294bb0ffec65",
   "metadata": {},
   "outputs": [],
   "source": []
  },
  {
   "cell_type": "code",
   "execution_count": null,
   "id": "658f244d-3bce-48fa-85ea-e574fb73a40a",
   "metadata": {},
   "outputs": [],
   "source": []
  },
  {
   "cell_type": "code",
   "execution_count": null,
   "id": "e87ccd7e-3d4e-4e16-93b5-a4e3d01b2f76",
   "metadata": {},
   "outputs": [],
   "source": []
  },
  {
   "cell_type": "code",
   "execution_count": null,
   "id": "d3dedb54-912d-40ce-98dc-1775624abd9e",
   "metadata": {},
   "outputs": [],
   "source": []
  },
  {
   "cell_type": "code",
   "execution_count": null,
   "id": "85885371-551f-4f0a-adc7-5e4aca798e11",
   "metadata": {},
   "outputs": [],
   "source": []
  },
  {
   "cell_type": "code",
   "execution_count": null,
   "id": "4f26355e-ff10-4cb8-9ba9-707857473159",
   "metadata": {},
   "outputs": [],
   "source": []
  },
  {
   "cell_type": "code",
   "execution_count": null,
   "id": "86017d63-aa84-4a76-ba3e-77bf83eb287c",
   "metadata": {},
   "outputs": [],
   "source": []
  },
  {
   "cell_type": "code",
   "execution_count": null,
   "id": "83969478-743e-411c-b9b7-b5ba1951b8e8",
   "metadata": {},
   "outputs": [],
   "source": []
  },
  {
   "cell_type": "code",
   "execution_count": null,
   "id": "cf2f99ea-4735-44ea-b213-b6b8de183637",
   "metadata": {},
   "outputs": [],
   "source": []
  },
  {
   "cell_type": "code",
   "execution_count": null,
   "id": "f49c948d-bf1b-4453-8cc2-05c134d12174",
   "metadata": {},
   "outputs": [],
   "source": []
  },
  {
   "cell_type": "code",
   "execution_count": null,
   "id": "e8d3e08a-ef41-4861-ad56-758ffd647e02",
   "metadata": {},
   "outputs": [],
   "source": []
  },
  {
   "cell_type": "code",
   "execution_count": null,
   "id": "927df808-2f94-4c37-9419-a14688998e2b",
   "metadata": {},
   "outputs": [],
   "source": []
  },
  {
   "cell_type": "code",
   "execution_count": null,
   "id": "278cf9e8-c1ae-4cfc-9b58-c35b2a3d90a6",
   "metadata": {},
   "outputs": [],
   "source": []
  },
  {
   "cell_type": "code",
   "execution_count": null,
   "id": "c1a42862-89e6-4a3f-8563-32feaf57357c",
   "metadata": {},
   "outputs": [],
   "source": []
  },
  {
   "cell_type": "code",
   "execution_count": null,
   "id": "6fdb7239-0741-4845-9ad6-ab4481193f0e",
   "metadata": {},
   "outputs": [],
   "source": []
  },
  {
   "cell_type": "code",
   "execution_count": null,
   "id": "9170137d-089f-4a7d-ac36-0f6a8663d135",
   "metadata": {},
   "outputs": [],
   "source": []
  }
 ],
 "metadata": {
  "kernelspec": {
   "display_name": "Python 3 (ipykernel)",
   "language": "python",
   "name": "python3"
  },
  "language_info": {
   "codemirror_mode": {
    "name": "ipython",
    "version": 3
   },
   "file_extension": ".py",
   "mimetype": "text/x-python",
   "name": "python",
   "nbconvert_exporter": "python",
   "pygments_lexer": "ipython3",
   "version": "3.11.4"
  }
 },
 "nbformat": 4,
 "nbformat_minor": 5
}
