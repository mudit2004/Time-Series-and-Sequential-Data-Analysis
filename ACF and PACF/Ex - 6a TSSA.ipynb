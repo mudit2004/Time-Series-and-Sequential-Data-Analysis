{
 "cells": [
  {
   "cell_type": "markdown",
   "id": "55030a17",
   "metadata": {},
   "source": [
    "# DATA COLLECTION"
   ]
  },
  {
   "cell_type": "code",
   "execution_count": 1,
   "id": "0691301b",
   "metadata": {},
   "outputs": [
    {
     "data": {
      "text/html": [
       "<div>\n",
       "<style scoped>\n",
       "    .dataframe tbody tr th:only-of-type {\n",
       "        vertical-align: middle;\n",
       "    }\n",
       "\n",
       "    .dataframe tbody tr th {\n",
       "        vertical-align: top;\n",
       "    }\n",
       "\n",
       "    .dataframe thead th {\n",
       "        text-align: right;\n",
       "    }\n",
       "</style>\n",
       "<table border=\"1\" class=\"dataframe\">\n",
       "  <thead>\n",
       "    <tr style=\"text-align: right;\">\n",
       "      <th></th>\n",
       "      <th>t</th>\n",
       "      <th>t+1</th>\n",
       "      <th>t+2</th>\n",
       "      <th>t+3</th>\n",
       "      <th>t+4</th>\n",
       "      <th>t+5</th>\n",
       "      <th>t+6</th>\n",
       "      <th>t+7</th>\n",
       "      <th>t+8</th>\n",
       "      <th>t+9</th>\n",
       "      <th>t-1</th>\n",
       "      <th>t-2</th>\n",
       "      <th>t-3</th>\n",
       "      <th>t-4</th>\n",
       "      <th>t-5</th>\n",
       "      <th>t-6</th>\n",
       "      <th>t-7</th>\n",
       "      <th>t-8</th>\n",
       "      <th>t-9</th>\n",
       "    </tr>\n",
       "  </thead>\n",
       "  <tbody>\n",
       "    <tr>\n",
       "      <th>0</th>\n",
       "      <td>13</td>\n",
       "      <td>8.0</td>\n",
       "      <td>15.0</td>\n",
       "      <td>4.0</td>\n",
       "      <td>4.0</td>\n",
       "      <td>12.0</td>\n",
       "      <td>11.0</td>\n",
       "      <td>7.0</td>\n",
       "      <td>14.0</td>\n",
       "      <td>12.0</td>\n",
       "      <td>NaN</td>\n",
       "      <td>NaN</td>\n",
       "      <td>NaN</td>\n",
       "      <td>NaN</td>\n",
       "      <td>NaN</td>\n",
       "      <td>NaN</td>\n",
       "      <td>NaN</td>\n",
       "      <td>NaN</td>\n",
       "      <td>NaN</td>\n",
       "    </tr>\n",
       "    <tr>\n",
       "      <th>1</th>\n",
       "      <td>8</td>\n",
       "      <td>15.0</td>\n",
       "      <td>4.0</td>\n",
       "      <td>4.0</td>\n",
       "      <td>12.0</td>\n",
       "      <td>11.0</td>\n",
       "      <td>7.0</td>\n",
       "      <td>14.0</td>\n",
       "      <td>12.0</td>\n",
       "      <td>NaN</td>\n",
       "      <td>13.0</td>\n",
       "      <td>NaN</td>\n",
       "      <td>NaN</td>\n",
       "      <td>NaN</td>\n",
       "      <td>NaN</td>\n",
       "      <td>NaN</td>\n",
       "      <td>NaN</td>\n",
       "      <td>NaN</td>\n",
       "      <td>NaN</td>\n",
       "    </tr>\n",
       "    <tr>\n",
       "      <th>2</th>\n",
       "      <td>15</td>\n",
       "      <td>4.0</td>\n",
       "      <td>4.0</td>\n",
       "      <td>12.0</td>\n",
       "      <td>11.0</td>\n",
       "      <td>7.0</td>\n",
       "      <td>14.0</td>\n",
       "      <td>12.0</td>\n",
       "      <td>NaN</td>\n",
       "      <td>NaN</td>\n",
       "      <td>8.0</td>\n",
       "      <td>13.0</td>\n",
       "      <td>NaN</td>\n",
       "      <td>NaN</td>\n",
       "      <td>NaN</td>\n",
       "      <td>NaN</td>\n",
       "      <td>NaN</td>\n",
       "      <td>NaN</td>\n",
       "      <td>NaN</td>\n",
       "    </tr>\n",
       "    <tr>\n",
       "      <th>3</th>\n",
       "      <td>4</td>\n",
       "      <td>4.0</td>\n",
       "      <td>12.0</td>\n",
       "      <td>11.0</td>\n",
       "      <td>7.0</td>\n",
       "      <td>14.0</td>\n",
       "      <td>12.0</td>\n",
       "      <td>NaN</td>\n",
       "      <td>NaN</td>\n",
       "      <td>NaN</td>\n",
       "      <td>15.0</td>\n",
       "      <td>8.0</td>\n",
       "      <td>13.0</td>\n",
       "      <td>NaN</td>\n",
       "      <td>NaN</td>\n",
       "      <td>NaN</td>\n",
       "      <td>NaN</td>\n",
       "      <td>NaN</td>\n",
       "      <td>NaN</td>\n",
       "    </tr>\n",
       "    <tr>\n",
       "      <th>4</th>\n",
       "      <td>4</td>\n",
       "      <td>12.0</td>\n",
       "      <td>11.0</td>\n",
       "      <td>7.0</td>\n",
       "      <td>14.0</td>\n",
       "      <td>12.0</td>\n",
       "      <td>NaN</td>\n",
       "      <td>NaN</td>\n",
       "      <td>NaN</td>\n",
       "      <td>NaN</td>\n",
       "      <td>4.0</td>\n",
       "      <td>15.0</td>\n",
       "      <td>8.0</td>\n",
       "      <td>13.0</td>\n",
       "      <td>NaN</td>\n",
       "      <td>NaN</td>\n",
       "      <td>NaN</td>\n",
       "      <td>NaN</td>\n",
       "      <td>NaN</td>\n",
       "    </tr>\n",
       "    <tr>\n",
       "      <th>5</th>\n",
       "      <td>12</td>\n",
       "      <td>11.0</td>\n",
       "      <td>7.0</td>\n",
       "      <td>14.0</td>\n",
       "      <td>12.0</td>\n",
       "      <td>NaN</td>\n",
       "      <td>NaN</td>\n",
       "      <td>NaN</td>\n",
       "      <td>NaN</td>\n",
       "      <td>NaN</td>\n",
       "      <td>4.0</td>\n",
       "      <td>4.0</td>\n",
       "      <td>15.0</td>\n",
       "      <td>8.0</td>\n",
       "      <td>13.0</td>\n",
       "      <td>NaN</td>\n",
       "      <td>NaN</td>\n",
       "      <td>NaN</td>\n",
       "      <td>NaN</td>\n",
       "    </tr>\n",
       "    <tr>\n",
       "      <th>6</th>\n",
       "      <td>11</td>\n",
       "      <td>7.0</td>\n",
       "      <td>14.0</td>\n",
       "      <td>12.0</td>\n",
       "      <td>NaN</td>\n",
       "      <td>NaN</td>\n",
       "      <td>NaN</td>\n",
       "      <td>NaN</td>\n",
       "      <td>NaN</td>\n",
       "      <td>NaN</td>\n",
       "      <td>12.0</td>\n",
       "      <td>4.0</td>\n",
       "      <td>4.0</td>\n",
       "      <td>15.0</td>\n",
       "      <td>8.0</td>\n",
       "      <td>13.0</td>\n",
       "      <td>NaN</td>\n",
       "      <td>NaN</td>\n",
       "      <td>NaN</td>\n",
       "    </tr>\n",
       "    <tr>\n",
       "      <th>7</th>\n",
       "      <td>7</td>\n",
       "      <td>14.0</td>\n",
       "      <td>12.0</td>\n",
       "      <td>NaN</td>\n",
       "      <td>NaN</td>\n",
       "      <td>NaN</td>\n",
       "      <td>NaN</td>\n",
       "      <td>NaN</td>\n",
       "      <td>NaN</td>\n",
       "      <td>NaN</td>\n",
       "      <td>11.0</td>\n",
       "      <td>12.0</td>\n",
       "      <td>4.0</td>\n",
       "      <td>4.0</td>\n",
       "      <td>15.0</td>\n",
       "      <td>8.0</td>\n",
       "      <td>13.0</td>\n",
       "      <td>NaN</td>\n",
       "      <td>NaN</td>\n",
       "    </tr>\n",
       "    <tr>\n",
       "      <th>8</th>\n",
       "      <td>14</td>\n",
       "      <td>12.0</td>\n",
       "      <td>NaN</td>\n",
       "      <td>NaN</td>\n",
       "      <td>NaN</td>\n",
       "      <td>NaN</td>\n",
       "      <td>NaN</td>\n",
       "      <td>NaN</td>\n",
       "      <td>NaN</td>\n",
       "      <td>NaN</td>\n",
       "      <td>7.0</td>\n",
       "      <td>11.0</td>\n",
       "      <td>12.0</td>\n",
       "      <td>4.0</td>\n",
       "      <td>4.0</td>\n",
       "      <td>15.0</td>\n",
       "      <td>8.0</td>\n",
       "      <td>13.0</td>\n",
       "      <td>NaN</td>\n",
       "    </tr>\n",
       "    <tr>\n",
       "      <th>9</th>\n",
       "      <td>12</td>\n",
       "      <td>NaN</td>\n",
       "      <td>NaN</td>\n",
       "      <td>NaN</td>\n",
       "      <td>NaN</td>\n",
       "      <td>NaN</td>\n",
       "      <td>NaN</td>\n",
       "      <td>NaN</td>\n",
       "      <td>NaN</td>\n",
       "      <td>NaN</td>\n",
       "      <td>14.0</td>\n",
       "      <td>7.0</td>\n",
       "      <td>11.0</td>\n",
       "      <td>12.0</td>\n",
       "      <td>4.0</td>\n",
       "      <td>4.0</td>\n",
       "      <td>15.0</td>\n",
       "      <td>8.0</td>\n",
       "      <td>13.0</td>\n",
       "    </tr>\n",
       "  </tbody>\n",
       "</table>\n",
       "</div>"
      ],
      "text/plain": [
       "    t   t+1   t+2   t+3   t+4   t+5   t+6   t+7   t+8   t+9   t-1   t-2   t-3  \\\n",
       "0  13   8.0  15.0   4.0   4.0  12.0  11.0   7.0  14.0  12.0   NaN   NaN   NaN   \n",
       "1   8  15.0   4.0   4.0  12.0  11.0   7.0  14.0  12.0   NaN  13.0   NaN   NaN   \n",
       "2  15   4.0   4.0  12.0  11.0   7.0  14.0  12.0   NaN   NaN   8.0  13.0   NaN   \n",
       "3   4   4.0  12.0  11.0   7.0  14.0  12.0   NaN   NaN   NaN  15.0   8.0  13.0   \n",
       "4   4  12.0  11.0   7.0  14.0  12.0   NaN   NaN   NaN   NaN   4.0  15.0   8.0   \n",
       "5  12  11.0   7.0  14.0  12.0   NaN   NaN   NaN   NaN   NaN   4.0   4.0  15.0   \n",
       "6  11   7.0  14.0  12.0   NaN   NaN   NaN   NaN   NaN   NaN  12.0   4.0   4.0   \n",
       "7   7  14.0  12.0   NaN   NaN   NaN   NaN   NaN   NaN   NaN  11.0  12.0   4.0   \n",
       "8  14  12.0   NaN   NaN   NaN   NaN   NaN   NaN   NaN   NaN   7.0  11.0  12.0   \n",
       "9  12   NaN   NaN   NaN   NaN   NaN   NaN   NaN   NaN   NaN  14.0   7.0  11.0   \n",
       "\n",
       "    t-4   t-5   t-6   t-7   t-8   t-9  \n",
       "0   NaN   NaN   NaN   NaN   NaN   NaN  \n",
       "1   NaN   NaN   NaN   NaN   NaN   NaN  \n",
       "2   NaN   NaN   NaN   NaN   NaN   NaN  \n",
       "3   NaN   NaN   NaN   NaN   NaN   NaN  \n",
       "4  13.0   NaN   NaN   NaN   NaN   NaN  \n",
       "5   8.0  13.0   NaN   NaN   NaN   NaN  \n",
       "6  15.0   8.0  13.0   NaN   NaN   NaN  \n",
       "7   4.0  15.0   8.0  13.0   NaN   NaN  \n",
       "8   4.0   4.0  15.0   8.0  13.0   NaN  \n",
       "9  12.0   4.0   4.0  15.0   8.0  13.0  "
      ]
     },
     "execution_count": 1,
     "metadata": {},
     "output_type": "execute_result"
    }
   ],
   "source": [
    "from pandas import read_csv\n",
    "import matplotlib.pyplot as plt\n",
    "series = read_csv('acfdata.csv',names=['t','t+1','t+2','t+3','t+4','t+5','t+6','t+7','t+8','t+9','t-1','t-2','t-3','t-4','t-5','t-6','t-7','t-8','t-9',])\n",
    "series"
   ]
  },
  {
   "cell_type": "markdown",
   "id": "59e24513",
   "metadata": {},
   "source": [
    "# ACF PLOT"
   ]
  },
  {
   "cell_type": "code",
   "execution_count": 2,
   "id": "fd87f2af",
   "metadata": {},
   "outputs": [
    {
     "data": {
      "image/png": "[encoded data removed]",
      "text/plain": [
       "<Figure size 640x480 with 1 Axes>"
      ]
     },
     "metadata": {},
     "output_type": "display_data"
    }
   ],
   "source": [
    "from statsmodels.graphics.tsaplots import plot_acf\n",
    "plot_acf(series['t'])\n",
    "plt.show()"
   ]
  },
  {
   "cell_type": "markdown",
   "id": "0de586d0",
   "metadata": {},
   "source": [
    "# PACF PLOT"
   ]
  },
  {
   "cell_type": "code",
   "execution_count": 3,
   "id": "ed5dc825",
   "metadata": {},
   "outputs": [
    {
     "data": {
      "image/png": "[encoded data removed]",
      "text/plain": [
       "<Figure size 640x480 with 1 Axes>"
      ]
     },
     "metadata": {},
     "output_type": "display_data"
    }
   ],
   "source": [
    "from statsmodels.graphics.tsaplots import plot_pacf\n",
    "plot_pacf(series['t'], lags=5)\n",
    "plt.show()"
   ]
  },
  {
   "cell_type": "markdown",
   "id": "7e206771",
   "metadata": {},
   "source": [
    "# ACF AND PACF"
   ]
  },
  {
   "cell_type": "code",
   "execution_count": 4,
   "id": "0e565a60",
   "metadata": {},
   "outputs": [],
   "source": [
    "import pandas as pd\n",
    "import numpy as np\n",
    "from sklearn.linear_model import LinearRegression\n",
    "from statsmodels.graphics.tsaplots import plot_acf, plot_pacf\n",
    "from statsmodels.tsa.stattools import acf, pacf\n",
    "from statsmodels.tsa.tsatools import lagmat\n",
    "import matplotlib.pyplot as plt"
   ]
  },
  {
   "cell_type": "code",
   "execution_count": 5,
   "id": "3e9dbaef",
   "metadata": {},
   "outputs": [
    {
     "data": {
      "image/png": "[encoded data removed]",
      "text/plain": [
       "<Figure size 640x480 with 2 Axes>"
      ]
     },
     "execution_count": 5,
     "metadata": {},
     "output_type": "execute_result"
    },
    {
     "data": {
      "image/png": "[encoded data removed]",
      "text/plain": [
       "<Figure size 640x480 with 2 Axes>"
      ]
     },
     "metadata": {},
     "output_type": "display_data"
    }
   ],
   "source": [
    "df = pd.read_csv(\"AirPassengers.csv\", index_col=0)\n",
    "df.index = pd.to_datetime(df.index)\n",
    "y = df[\"value\"]\n",
    "y\n",
    "fig, ax = plt.subplots(2, 1)\n",
    "plot_acf(df, ax=ax[0])\n",
    "plot_pacf(df, ax=ax[1], method=\"ols\")"
   ]
  },
  {
   "cell_type": "code",
   "execution_count": 6,
   "id": "f7149a40",
   "metadata": {},
   "outputs": [
    {
     "data": {
      "text/plain": [
       "array([1.        , 0.96019465, 0.89567531, 0.83739477, 0.7977347 ,\n",
       "       0.78594315, 0.7839188 , 0.78459213, 0.79221505, 0.8278519 ,\n",
       "       0.8827128 ])"
      ]
     },
     "execution_count": 6,
     "metadata": {},
     "output_type": "execute_result"
    }
   ],
   "source": [
    "acf(y, nlags=10)\n",
    "\n",
    "acf_df = pd.DataFrame()\n",
    "for lag in range(0, 11):\n",
    "    acf_df[f\"y_lag_{lag}\"] = y.shift(lag)\n",
    "acf_df\n",
    "acf_df.corr()[\"y_lag_0\"].values"
   ]
  },
  {
   "cell_type": "code",
   "execution_count": 7,
   "id": "3adfe04f",
   "metadata": {},
   "outputs": [
    {
     "data": {
      "text/plain": [
       "array([1.        , 0.94804734, 0.87557484, 0.80668116, 0.75262542,\n",
       "       0.71376997, 0.6817336 , 0.66290439, 0.65561048, 0.67094833,\n",
       "       0.70271992])"
      ]
     },
     "execution_count": 7,
     "metadata": {},
     "output_type": "execute_result"
    }
   ],
   "source": [
    "# benchmark\n",
    "acf(y, nlags=10)\n",
    "# replicating the acf function\n",
    "acf_list = []\n",
    "mu = y.mean()\n",
    "for lag in range(0, 11):\n",
    "    acf_list.append(np.dot((y - mu).iloc[lag:], (y.shift(lag) - mu).iloc[lag:]) / sum((y - mu)** 2))\n",
    "np.array(acf_list)\n",
    "# alternative way to write the same using sum instead of the dot product\n",
    "acf_list = []\n",
    "mu = y.mean()\n",
    "for lag in range(0, 11):\n",
    "    acf_list.append(sum((y - mu).iloc[lag:] * (y.shift(lag) - mu).iloc[lag:]) / sum((y - mu)** 2))\n",
    "np.array(acf_list)"
   ]
  },
  {
   "cell_type": "code",
   "execution_count": 8,
   "id": "d9dd8103",
   "metadata": {},
   "outputs": [
    {
     "data": {
      "text/plain": [
       "array([ 1.        ,  0.95860315, -0.33427195,  0.1970437 ,  0.13909745])"
      ]
     },
     "execution_count": 8,
     "metadata": {},
     "output_type": "execute_result"
    }
   ],
   "source": [
    "pacf(df, nlags=10, method=\"ols\")\n",
    "N_LAGS = 10\n",
    "# the first partial autocorrelation is always equal to 1\n",
    "pacf_list = [1]\n",
    "X = pd.DataFrame(lagmat(y, N_LAGS))\n",
    "X.columns = [f\"lag_{lag+1}\" for lag in range(10)]\n",
    "for k in range(1, N_LAGS + 1):\n",
    "    fitted_model = LinearRegression().fit(X.iloc[k:, :k],y.iloc[k:])\n",
    "    pacf_list.append(fitted_model.coef_[-1])\n",
    "np.array(pacf_list)\n",
    "\n",
    "pacf(y, 2, method=\"ols-inefficient\")\n",
    "pacf(y, 4, method=\"ols-inefficient\")"
   ]
  },
  {
   "cell_type": "code",
   "execution_count": 9,
   "id": "e9893d20",
   "metadata": {},
   "outputs": [
    {
     "data": {
      "text/plain": [
       "array([ 1.        ,  0.95893198, -0.32983096,  0.2018249 ,  0.14500798])"
      ]
     },
     "execution_count": 9,
     "metadata": {},
     "output_type": "execute_result"
    }
   ],
   "source": [
    "pacf(y, 2, method=\"ols\")\n",
    "pacf(y, 4, method=\"ols\")"
   ]
  },
  {
   "cell_type": "code",
   "execution_count": null,
   "id": "ceec156a",
   "metadata": {},
   "outputs": [],
   "source": []
  }
 ],
 "metadata": {
  "kernelspec": {
   "display_name": "Python 3 (ipykernel)",
   "language": "python",
   "name": "python3"
  },
  "language_info": {
   "codemirror_mode": {
    "name": "ipython",
    "version": 3
   },
   "file_extension": ".py",
   "mimetype": "text/x-python",
   "name": "python",
   "nbconvert_exporter": "python",
   "pygments_lexer": "ipython3",
   "version": "3.10.0"
  }
 },
 "nbformat": 4,
 "nbformat_minor": 5
}
